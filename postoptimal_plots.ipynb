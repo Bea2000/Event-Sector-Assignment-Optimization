{
 "cells": [
  {
   "cell_type": "code",
   "execution_count": 2,
   "id": "7106880d",
   "metadata": {},
   "outputs": [],
   "source": [
    "import pandas as pd\n",
    "import matplotlib.pyplot as plt\n",
    "import numpy as np"
   ]
  },
  {
   "cell_type": "code",
   "execution_count": 3,
   "id": "28b9e8b2",
   "metadata": {},
   "outputs": [],
   "source": [
    "df = pd.read_csv(\"postoptimal_analysis_data/Asistencia.csv\")"
   ]
  },
  {
   "cell_type": "code",
   "execution_count": 4,
   "id": "73c0a476",
   "metadata": {
    "scrolled": true
   },
   "outputs": [
    {
     "data": {
      "text/html": [
       "<div>\n",
       "<style scoped>\n",
       "    .dataframe tbody tr th:only-of-type {\n",
       "        vertical-align: middle;\n",
       "    }\n",
       "\n",
       "    .dataframe tbody tr th {\n",
       "        vertical-align: top;\n",
       "    }\n",
       "\n",
       "    .dataframe thead th {\n",
       "        text-align: right;\n",
       "    }\n",
       "</style>\n",
       "<table border=\"1\" class=\"dataframe\">\n",
       "  <thead>\n",
       "    <tr style=\"text-align: right;\">\n",
       "      <th></th>\n",
       "      <th>Unnamed: 0</th>\n",
       "      <th>Asistencia</th>\n",
       "      <th>ValorOptimo</th>\n",
       "      <th>TiempoEjecucion</th>\n",
       "      <th>SectoresHabilitadosDia0</th>\n",
       "      <th>SectoresHabilitadosDia1</th>\n",
       "      <th>SectoresHabilitadosDia2</th>\n",
       "      <th>SectoresHabilitadosDia3</th>\n",
       "    </tr>\n",
       "  </thead>\n",
       "  <tbody>\n",
       "    <tr>\n",
       "      <th>0</th>\n",
       "      <td>0</td>\n",
       "      <td>2000.0</td>\n",
       "      <td>122459893.0</td>\n",
       "      <td>4.105790</td>\n",
       "      <td>7.0</td>\n",
       "      <td>3.0</td>\n",
       "      <td>4.0</td>\n",
       "      <td>7.0</td>\n",
       "    </tr>\n",
       "    <tr>\n",
       "      <th>1</th>\n",
       "      <td>1</td>\n",
       "      <td>4000.0</td>\n",
       "      <td>241949777.0</td>\n",
       "      <td>13.012760</td>\n",
       "      <td>7.0</td>\n",
       "      <td>3.0</td>\n",
       "      <td>4.0</td>\n",
       "      <td>7.0</td>\n",
       "    </tr>\n",
       "    <tr>\n",
       "      <th>2</th>\n",
       "      <td>2</td>\n",
       "      <td>6000.0</td>\n",
       "      <td>311746097.0</td>\n",
       "      <td>57.053711</td>\n",
       "      <td>6.0</td>\n",
       "      <td>3.0</td>\n",
       "      <td>5.0</td>\n",
       "      <td>6.0</td>\n",
       "    </tr>\n",
       "    <tr>\n",
       "      <th>3</th>\n",
       "      <td>3</td>\n",
       "      <td>8000.0</td>\n",
       "      <td>356803057.0</td>\n",
       "      <td>61.128079</td>\n",
       "      <td>7.0</td>\n",
       "      <td>1.0</td>\n",
       "      <td>6.0</td>\n",
       "      <td>7.0</td>\n",
       "    </tr>\n",
       "    <tr>\n",
       "      <th>4</th>\n",
       "      <td>4</td>\n",
       "      <td>10000.0</td>\n",
       "      <td>357829976.0</td>\n",
       "      <td>103.057063</td>\n",
       "      <td>7.0</td>\n",
       "      <td>1.0</td>\n",
       "      <td>6.0</td>\n",
       "      <td>7.0</td>\n",
       "    </tr>\n",
       "  </tbody>\n",
       "</table>\n",
       "</div>"
      ],
      "text/plain": [
       "   Unnamed: 0  Asistencia  ValorOptimo  TiempoEjecucion  \\\n",
       "0           0      2000.0  122459893.0         4.105790   \n",
       "1           1      4000.0  241949777.0        13.012760   \n",
       "2           2      6000.0  311746097.0        57.053711   \n",
       "3           3      8000.0  356803057.0        61.128079   \n",
       "4           4     10000.0  357829976.0       103.057063   \n",
       "\n",
       "   SectoresHabilitadosDia0  SectoresHabilitadosDia1  SectoresHabilitadosDia2  \\\n",
       "0                      7.0                      3.0                      4.0   \n",
       "1                      7.0                      3.0                      4.0   \n",
       "2                      6.0                      3.0                      5.0   \n",
       "3                      7.0                      1.0                      6.0   \n",
       "4                      7.0                      1.0                      6.0   \n",
       "\n",
       "   SectoresHabilitadosDia3  \n",
       "0                      7.0  \n",
       "1                      7.0  \n",
       "2                      6.0  \n",
       "3                      7.0  \n",
       "4                      7.0  "
      ]
     },
     "execution_count": 4,
     "metadata": {},
     "output_type": "execute_result"
    }
   ],
   "source": [
    "df.head()"
   ]
  },
  {
   "cell_type": "code",
   "execution_count": 5,
   "id": "540c715f",
   "metadata": {},
   "outputs": [
    {
     "data": {
      "text/plain": [
       "291436462.6666667"
      ]
     },
     "execution_count": 5,
     "metadata": {},
     "output_type": "execute_result"
    }
   ],
   "source": [
    "np.mean(df['ValorOptimo'])"
   ]
  },
  {
   "cell_type": "code",
   "execution_count": 6,
   "id": "b588c999",
   "metadata": {},
   "outputs": [
    {
     "data": {
      "text/plain": [
       "86123441.71939546"
      ]
     },
     "execution_count": 6,
     "metadata": {},
     "output_type": "execute_result"
    }
   ],
   "source": [
    "np.std(df['ValorOptimo'])"
   ]
  },
  {
   "cell_type": "code",
   "execution_count": 7,
   "id": "a91f3d9f",
   "metadata": {
    "scrolled": true
   },
   "outputs": [
    {
     "data": {
      "text/plain": [
       "<AxesSubplot:title={'center':'Valor óptimo según asistencia'}, xlabel='Número de asistentes', ylabel='Valor óptimo (CLP)'>"
      ]
     },
     "execution_count": 7,
     "metadata": {},
     "output_type": "execute_result"
    },
    {
     "data": {
      "image/png": "[encoded data removed]",
      "text/plain": [
       "<Figure size 432x288 with 1 Axes>"
      ]
     },
     "metadata": {
      "needs_background": "light"
     },
     "output_type": "display_data"
    }
   ],
   "source": [
    "df.plot(\n",
    "    \"Asistencia\",\n",
    "    \"ValorOptimo\", \n",
    "    kind=\"bar\", \n",
    "    title=\"Valor óptimo según asistencia\",\n",
    "    xlabel=\"Número de asistentes\",\n",
    "    ylabel=\"Valor óptimo (CLP)\",\n",
    "    ylim=(0, 1_000_000_000)\n",
    ")"
   ]
  },
  {
   "cell_type": "code",
   "execution_count": null,
   "id": "c6747215",
   "metadata": {
    "scrolled": true
   },
   "outputs": [],
   "source": [
    "df.iloc[0][4:].plot(\n",
    "    kind=\"bar\",\n",
    "    title=f\" Sectores habilitados por día \\n 2000 asistentes\",\n",
    "    xticks=[0, 1, 2, 3],\n",
    "    xlabel=\"Día\",\n",
    "    ylabel=\"Número de sectores habilitados\",\n",
    "    ylim=(0, 8)\n",
    ")"
   ]
  },
  {
   "cell_type": "code",
   "execution_count": null,
   "id": "56b99360",
   "metadata": {},
   "outputs": [],
   "source": [
    "df.iloc[1][4:].plot(\n",
    "    kind=\"bar\",\n",
    "    title=f\" Sectores habilitados por día \\n 4000 asistentes\",\n",
    "    xticks=[0, 1, 2, 3],\n",
    "    xlabel=\"Día\",\n",
    "    ylabel=\"Número de sectores habilitados\",\n",
    "    ylim=(0, 8)\n",
    ")"
   ]
  },
  {
   "cell_type": "code",
   "execution_count": null,
   "id": "a36e9fe5",
   "metadata": {},
   "outputs": [],
   "source": [
    "df.iloc[2][4:].plot(\n",
    "    kind=\"bar\",\n",
    "    title=f\" Sectores habilitados por día \\n 6000 asistentes\",\n",
    "    xticks=[0, 1, 2, 3],\n",
    "    xlabel=\"Día\",\n",
    "    ylabel=\"Número de sectores habilitados\",\n",
    "    ylim=(0, 8)\n",
    ")"
   ]
  },
  {
   "cell_type": "code",
   "execution_count": null,
   "id": "d3ccf851",
   "metadata": {
    "scrolled": true
   },
   "outputs": [],
   "source": [
    "df.iloc[3][4:].plot(\n",
    "    kind=\"bar\",\n",
    "    title=f\" Sectores habilitados por día \\n 8000 asistentes\",\n",
    "    xticks=[0, 1, 2, 3],\n",
    "    xlabel=\"Día\",\n",
    "    ylabel=\"Número de sectores habilitados\",\n",
    "    ylim=(0, 8)\n",
    ")"
   ]
  },
  {
   "cell_type": "code",
   "execution_count": null,
   "id": "3d763b48",
   "metadata": {},
   "outputs": [],
   "source": [
    "df.iloc[4][4:].plot(\n",
    "    kind=\"bar\",\n",
    "    title=f\" Sectores habilitados por día \\n 10000 asistentes\",\n",
    "    xticks=[0, 1, 2, 3],\n",
    "    xlabel=\"Día\",\n",
    "    ylabel=\"Número de sectores habilitados\",\n",
    "    ylim=(0, 8)\n",
    ")"
   ]
  },
  {
   "cell_type": "code",
   "execution_count": null,
   "id": "abbb54f5",
   "metadata": {},
   "outputs": [],
   "source": [
    "df.iloc[5][4:].plot(\n",
    "    kind=\"bar\",\n",
    "    title=f\" Sectores habilitados por día \\n 12000 asistentes\",\n",
    "    xticks=[0, 1, 2, 3],\n",
    "    xlabel=\"Día\",\n",
    "    ylabel=\"Número de sectores habilitados\",\n",
    "    ylim=(0, 8)\n",
    ")"
   ]
  },
  {
   "cell_type": "code",
   "execution_count": 8,
   "id": "4a1c8b68",
   "metadata": {},
   "outputs": [],
   "source": [
    "df = pd.read_csv(\"postoptimal_analysis_data/CostoEntradas.csv\")"
   ]
  },
  {
   "cell_type": "code",
   "execution_count": 9,
   "id": "f2590179",
   "metadata": {
    "scrolled": false
   },
   "outputs": [
    {
     "data": {
      "text/html": [
       "<div>\n",
       "<style scoped>\n",
       "    .dataframe tbody tr th:only-of-type {\n",
       "        vertical-align: middle;\n",
       "    }\n",
       "\n",
       "    .dataframe tbody tr th {\n",
       "        vertical-align: top;\n",
       "    }\n",
       "\n",
       "    .dataframe thead th {\n",
       "        text-align: right;\n",
       "    }\n",
       "</style>\n",
       "<table border=\"1\" class=\"dataframe\">\n",
       "  <thead>\n",
       "    <tr style=\"text-align: right;\">\n",
       "      <th></th>\n",
       "      <th>Unnamed: 0</th>\n",
       "      <th>CostoEntradas</th>\n",
       "      <th>ValorOptimo</th>\n",
       "      <th>TiempoEjecucion</th>\n",
       "      <th>SectoresHabilitadosDia0</th>\n",
       "      <th>SectoresHabilitadosDia1</th>\n",
       "      <th>SectoresHabilitadosDia2</th>\n",
       "      <th>SectoresHabilitadosDia3</th>\n",
       "    </tr>\n",
       "  </thead>\n",
       "  <tbody>\n",
       "    <tr>\n",
       "      <th>0</th>\n",
       "      <td>0</td>\n",
       "      <td>0.5</td>\n",
       "      <td>82974187.0</td>\n",
       "      <td>88.990721</td>\n",
       "      <td>7.0</td>\n",
       "      <td>4.0</td>\n",
       "      <td>3.0</td>\n",
       "      <td>7.0</td>\n",
       "    </tr>\n",
       "    <tr>\n",
       "      <th>1</th>\n",
       "      <td>1</td>\n",
       "      <td>1.0</td>\n",
       "      <td>356441940.0</td>\n",
       "      <td>84.246127</td>\n",
       "      <td>6.0</td>\n",
       "      <td>4.0</td>\n",
       "      <td>4.0</td>\n",
       "      <td>6.0</td>\n",
       "    </tr>\n",
       "    <tr>\n",
       "      <th>2</th>\n",
       "      <td>2</td>\n",
       "      <td>1.5</td>\n",
       "      <td>635793340.0</td>\n",
       "      <td>84.810635</td>\n",
       "      <td>7.0</td>\n",
       "      <td>5.0</td>\n",
       "      <td>2.0</td>\n",
       "      <td>7.0</td>\n",
       "    </tr>\n",
       "    <tr>\n",
       "      <th>3</th>\n",
       "      <td>3</td>\n",
       "      <td>2.0</td>\n",
       "      <td>912235659.0</td>\n",
       "      <td>77.848523</td>\n",
       "      <td>7.0</td>\n",
       "      <td>5.0</td>\n",
       "      <td>2.0</td>\n",
       "      <td>7.0</td>\n",
       "    </tr>\n",
       "  </tbody>\n",
       "</table>\n",
       "</div>"
      ],
      "text/plain": [
       "   Unnamed: 0  CostoEntradas  ValorOptimo  TiempoEjecucion  \\\n",
       "0           0            0.5   82974187.0        88.990721   \n",
       "1           1            1.0  356441940.0        84.246127   \n",
       "2           2            1.5  635793340.0        84.810635   \n",
       "3           3            2.0  912235659.0        77.848523   \n",
       "\n",
       "   SectoresHabilitadosDia0  SectoresHabilitadosDia1  SectoresHabilitadosDia2  \\\n",
       "0                      7.0                      4.0                      3.0   \n",
       "1                      6.0                      4.0                      4.0   \n",
       "2                      7.0                      5.0                      2.0   \n",
       "3                      7.0                      5.0                      2.0   \n",
       "\n",
       "   SectoresHabilitadosDia3  \n",
       "0                      7.0  \n",
       "1                      6.0  \n",
       "2                      7.0  \n",
       "3                      7.0  "
      ]
     },
     "execution_count": 9,
     "metadata": {},
     "output_type": "execute_result"
    }
   ],
   "source": [
    "df.head()"
   ]
  },
  {
   "cell_type": "code",
   "execution_count": 10,
   "id": "092ba02b",
   "metadata": {},
   "outputs": [
    {
     "data": {
      "text/plain": [
       "496861281.5"
      ]
     },
     "execution_count": 10,
     "metadata": {},
     "output_type": "execute_result"
    }
   ],
   "source": [
    "np.mean(df['ValorOptimo'])"
   ]
  },
  {
   "cell_type": "code",
   "execution_count": 11,
   "id": "9ae1cc91",
   "metadata": {},
   "outputs": [
    {
     "data": {
      "text/plain": [
       "309377644.9678877"
      ]
     },
     "execution_count": 11,
     "metadata": {},
     "output_type": "execute_result"
    }
   ],
   "source": [
    "np.std(df['ValorOptimo'])"
   ]
  },
  {
   "cell_type": "code",
   "execution_count": 12,
   "id": "2c6ea3c8",
   "metadata": {},
   "outputs": [
    {
     "data": {
      "text/plain": [
       "<AxesSubplot:title={'center':'Valor óptimo según precio de entradas'}, xlabel='Factor de multiplicación entradas', ylabel='Valor óptimo (CLP)'>"
      ]
     },
     "execution_count": 12,
     "metadata": {},
     "output_type": "execute_result"
    },
    {
     "data": {
      "image/png": "[encoded data removed]",
      "text/plain": [
       "<Figure size 432x288 with 1 Axes>"
      ]
     },
     "metadata": {
      "needs_background": "light"
     },
     "output_type": "display_data"
    }
   ],
   "source": [
    "df.plot(\n",
    "    \"CostoEntradas\",\n",
    "    \"ValorOptimo\", \n",
    "    kind=\"bar\", \n",
    "    title=\"Valor óptimo según precio de entradas\",\n",
    "    xlabel=\"Factor de multiplicación entradas\",\n",
    "    ylabel=\"Valor óptimo (CLP)\",\n",
    "    ylim=(0, 1_000_000_000)\n",
    ")"
   ]
  },
  {
   "cell_type": "code",
   "execution_count": null,
   "id": "1d5c1055",
   "metadata": {},
   "outputs": [],
   "source": [
    "df.iloc[0][4:].plot(\n",
    "    kind=\"bar\",\n",
    "    title=f\" Sectores habilitados por día \\n Factor de 0.5\",\n",
    "    xticks=[0, 1, 2, 3],\n",
    "    xlabel=\"Día\",\n",
    "    ylabel=\"Número de sectores habilitados\",\n",
    "    ylim=(0, 8)\n",
    ")\n",
    "    "
   ]
  },
  {
   "cell_type": "code",
   "execution_count": null,
   "id": "bbd910f1",
   "metadata": {},
   "outputs": [],
   "source": [
    "df.iloc[1][4:].plot(\n",
    "    kind=\"bar\",\n",
    "    title=f\" Sectores habilitados por día \\n Factor de 1.0\",\n",
    "    xticks=[0, 1, 2, 3],\n",
    "    xlabel=\"Día\",\n",
    "    ylabel=\"Número de sectores habilitados\",\n",
    "    ylim=(0, 8)\n",
    ")\n",
    "    "
   ]
  },
  {
   "cell_type": "code",
   "execution_count": null,
   "id": "f614df7c",
   "metadata": {},
   "outputs": [],
   "source": [
    "df.iloc[2][4:].plot(\n",
    "    kind=\"bar\",\n",
    "    title=f\" Sectores habilitados por día \\n Factor de 1.5\",\n",
    "    xticks=[0, 1, 2, 3],\n",
    "    xlabel=\"Día\",\n",
    "    ylabel=\"Número de sectores habilitados\",\n",
    "    ylim=(0, 8)\n",
    ")"
   ]
  },
  {
   "cell_type": "code",
   "execution_count": null,
   "id": "bba5dcb5",
   "metadata": {},
   "outputs": [],
   "source": [
    "df.iloc[3][4:].plot(\n",
    "    kind=\"bar\",\n",
    "    title=f\" Sectores habilitados por día \\n Factor de 2.0\",\n",
    "    xticks=[0, 1, 2, 3],\n",
    "    xlabel=\"Día\",\n",
    "    ylabel=\"Número de sectores habilitados\",\n",
    "    ylim=(0, 8)\n",
    ")"
   ]
  },
  {
   "cell_type": "code",
   "execution_count": 28,
   "id": "f8cc77f6",
   "metadata": {},
   "outputs": [],
   "source": [
    "df = pd.read_csv(\"postoptimal_analysis_data/CostoOportunidadVendedor.csv\")"
   ]
  },
  {
   "cell_type": "code",
   "execution_count": 29,
   "id": "94b943e5",
   "metadata": {},
   "outputs": [
    {
     "data": {
      "text/html": [
       "<div>\n",
       "<style scoped>\n",
       "    .dataframe tbody tr th:only-of-type {\n",
       "        vertical-align: middle;\n",
       "    }\n",
       "\n",
       "    .dataframe tbody tr th {\n",
       "        vertical-align: top;\n",
       "    }\n",
       "\n",
       "    .dataframe thead th {\n",
       "        text-align: right;\n",
       "    }\n",
       "</style>\n",
       "<table border=\"1\" class=\"dataframe\">\n",
       "  <thead>\n",
       "    <tr style=\"text-align: right;\">\n",
       "      <th></th>\n",
       "      <th>Unnamed: 0</th>\n",
       "      <th>CostoOportunidadVendedor</th>\n",
       "      <th>ValorOptimo</th>\n",
       "      <th>TiempoEjecucion</th>\n",
       "      <th>SectoresHabilitadosDia0</th>\n",
       "      <th>SectoresHabilitadosDia1</th>\n",
       "      <th>SectoresHabilitadosDia2</th>\n",
       "      <th>SectoresHabilitadosDia3</th>\n",
       "    </tr>\n",
       "  </thead>\n",
       "  <tbody>\n",
       "    <tr>\n",
       "      <th>0</th>\n",
       "      <td>0</td>\n",
       "      <td>3.0</td>\n",
       "      <td>367838025.0</td>\n",
       "      <td>86.903506</td>\n",
       "      <td>7.0</td>\n",
       "      <td>4.0</td>\n",
       "      <td>3.0</td>\n",
       "      <td>7.0</td>\n",
       "    </tr>\n",
       "    <tr>\n",
       "      <th>1</th>\n",
       "      <td>1</td>\n",
       "      <td>4.0</td>\n",
       "      <td>362998551.0</td>\n",
       "      <td>78.422950</td>\n",
       "      <td>7.0</td>\n",
       "      <td>4.0</td>\n",
       "      <td>3.0</td>\n",
       "      <td>7.0</td>\n",
       "    </tr>\n",
       "    <tr>\n",
       "      <th>2</th>\n",
       "      <td>2</td>\n",
       "      <td>5.0</td>\n",
       "      <td>356441940.0</td>\n",
       "      <td>83.984525</td>\n",
       "      <td>6.0</td>\n",
       "      <td>4.0</td>\n",
       "      <td>4.0</td>\n",
       "      <td>6.0</td>\n",
       "    </tr>\n",
       "  </tbody>\n",
       "</table>\n",
       "</div>"
      ],
      "text/plain": [
       "   Unnamed: 0  CostoOportunidadVendedor  ValorOptimo  TiempoEjecucion  \\\n",
       "0           0                       3.0  367838025.0        86.903506   \n",
       "1           1                       4.0  362998551.0        78.422950   \n",
       "2           2                       5.0  356441940.0        83.984525   \n",
       "\n",
       "   SectoresHabilitadosDia0  SectoresHabilitadosDia1  SectoresHabilitadosDia2  \\\n",
       "0                      7.0                      4.0                      3.0   \n",
       "1                      7.0                      4.0                      3.0   \n",
       "2                      6.0                      4.0                      4.0   \n",
       "\n",
       "   SectoresHabilitadosDia3  \n",
       "0                      7.0  \n",
       "1                      7.0  \n",
       "2                      6.0  "
      ]
     },
     "execution_count": 29,
     "metadata": {},
     "output_type": "execute_result"
    }
   ],
   "source": [
    "df.head()"
   ]
  },
  {
   "cell_type": "code",
   "execution_count": 30,
   "id": "c0e62bd7",
   "metadata": {
    "scrolled": true
   },
   "outputs": [
    {
     "data": {
      "text/plain": [
       "<AxesSubplot:title={'center':'Valor óptimo según costo oportunidad vendedor'}, xlabel='Costo oportunidad vendedor', ylabel='Valor óptimo (CLP)'>"
      ]
     },
     "execution_count": 30,
     "metadata": {},
     "output_type": "execute_result"
    },
    {
     "data": {
      "image/png": "[encoded data removed]",
      "text/plain": [
       "<Figure size 432x288 with 1 Axes>"
      ]
     },
     "metadata": {
      "needs_background": "light"
     },
     "output_type": "display_data"
    }
   ],
   "source": [
    "df.plot(\n",
    "    \"CostoOportunidadVendedor\",\n",
    "    \"ValorOptimo\", \n",
    "    kind=\"bar\", \n",
    "    title=\"Valor óptimo según costo oportunidad vendedor\",\n",
    "    xlabel=\"Costo oportunidad vendedor\",\n",
    "    ylabel=\"Valor óptimo (CLP)\",\n",
    "    ylim=(0,500_000_000)\n",
    ")"
   ]
  },
  {
   "cell_type": "code",
   "execution_count": 31,
   "id": "7d0d3934",
   "metadata": {},
   "outputs": [
    {
     "data": {
      "text/plain": [
       "0.01288539306874151"
      ]
     },
     "execution_count": 31,
     "metadata": {},
     "output_type": "execute_result"
    }
   ],
   "source": [
    "np.std(df['ValorOptimo']) / np.mean(df['ValorOptimo'])"
   ]
  },
  {
   "cell_type": "code",
   "execution_count": null,
   "id": "0ff3323d",
   "metadata": {},
   "outputs": [],
   "source": [
    "df.iloc[0][4:].plot(\n",
    "    kind=\"bar\",\n",
    "    title=f\" Sectores habilitados por día \\n Costo de oportunidad de 2 asistentes por vendedor\",\n",
    "    xticks=[0, 1, 2, 3],\n",
    "    xlabel=\"Día\",\n",
    "    ylabel=\"Número de sectores habilitados\",\n",
    "    ylim=(0, 8)\n",
    ")"
   ]
  },
  {
   "cell_type": "code",
   "execution_count": null,
   "id": "5f7c41e4",
   "metadata": {},
   "outputs": [],
   "source": [
    "df.iloc[1][4:].plot(\n",
    "    kind=\"bar\",\n",
    "    title=f\" Sectores habilitados por día \\n Costo de oportunidad de 3 asistentes por vendedor\",\n",
    "    xticks=[0, 1, 2, 3],\n",
    "    xlabel=\"Día\",\n",
    "    ylabel=\"Número de sectores habilitados\",\n",
    "    ylim=(0, 8)\n",
    ")"
   ]
  },
  {
   "cell_type": "code",
   "execution_count": null,
   "id": "dde5e727",
   "metadata": {},
   "outputs": [],
   "source": [
    "df.iloc[2][4:].plot(\n",
    "    kind=\"bar\",\n",
    "    title=f\" Sectores habilitados por día \\n Costo de oportunidad de 4 asistentes por vendedor\",\n",
    "    xticks=[0, 1, 2, 3],\n",
    "    xlabel=\"Día\",\n",
    "    ylabel=\"Número de sectores habilitados\",\n",
    "    ylim=(0, 8)\n",
    ")"
   ]
  },
  {
   "cell_type": "code",
   "execution_count": null,
   "id": "629a5380",
   "metadata": {},
   "outputs": [],
   "source": [
    "df.iloc[3][4:].plot(\n",
    "    kind=\"bar\",\n",
    "    title=f\" Sectores habilitados por día \\n Costo de oportunidad de 5 asistentes por vendedor\",\n",
    "    xticks=[0, 1, 2, 3],\n",
    "    xlabel=\"Día\",\n",
    "    ylabel=\"Número de sectores habilitados\",\n",
    "    ylim=(0, 8)\n",
    ")"
   ]
  },
  {
   "cell_type": "code",
   "execution_count": 24,
   "id": "cf558d37",
   "metadata": {},
   "outputs": [],
   "source": [
    "df = pd.read_csv(\"postoptimal_analysis_data/DiasConsecutivos.csv\")"
   ]
  },
  {
   "cell_type": "code",
   "execution_count": 25,
   "id": "799f1781",
   "metadata": {
    "scrolled": true
   },
   "outputs": [
    {
     "data": {
      "text/html": [
       "<div>\n",
       "<style scoped>\n",
       "    .dataframe tbody tr th:only-of-type {\n",
       "        vertical-align: middle;\n",
       "    }\n",
       "\n",
       "    .dataframe tbody tr th {\n",
       "        vertical-align: top;\n",
       "    }\n",
       "\n",
       "    .dataframe thead th {\n",
       "        text-align: right;\n",
       "    }\n",
       "</style>\n",
       "<table border=\"1\" class=\"dataframe\">\n",
       "  <thead>\n",
       "    <tr style=\"text-align: right;\">\n",
       "      <th></th>\n",
       "      <th>Unnamed: 0</th>\n",
       "      <th>DiasConsecutivos</th>\n",
       "      <th>ValorOptimo</th>\n",
       "      <th>TiempoEjecucion</th>\n",
       "      <th>SectoresHabilitadosDia0</th>\n",
       "      <th>SectoresHabilitadosDia1</th>\n",
       "      <th>SectoresHabilitadosDia2</th>\n",
       "      <th>SectoresHabilitadosDia3</th>\n",
       "    </tr>\n",
       "  </thead>\n",
       "  <tbody>\n",
       "    <tr>\n",
       "      <th>0</th>\n",
       "      <td>0</td>\n",
       "      <td>1.0</td>\n",
       "      <td>210291511.0</td>\n",
       "      <td>259.694113</td>\n",
       "      <td>4.0</td>\n",
       "      <td>3.0</td>\n",
       "      <td>3.0</td>\n",
       "      <td>4.0</td>\n",
       "    </tr>\n",
       "    <tr>\n",
       "      <th>1</th>\n",
       "      <td>1</td>\n",
       "      <td>2.0</td>\n",
       "      <td>356441940.0</td>\n",
       "      <td>101.716892</td>\n",
       "      <td>6.0</td>\n",
       "      <td>4.0</td>\n",
       "      <td>4.0</td>\n",
       "      <td>6.0</td>\n",
       "    </tr>\n",
       "    <tr>\n",
       "      <th>2</th>\n",
       "      <td>2</td>\n",
       "      <td>3.0</td>\n",
       "      <td>364487631.0</td>\n",
       "      <td>88.365563</td>\n",
       "      <td>4.0</td>\n",
       "      <td>7.0</td>\n",
       "      <td>5.0</td>\n",
       "      <td>5.0</td>\n",
       "    </tr>\n",
       "    <tr>\n",
       "      <th>3</th>\n",
       "      <td>3</td>\n",
       "      <td>4.0</td>\n",
       "      <td>510328586.0</td>\n",
       "      <td>74.416290</td>\n",
       "      <td>7.0</td>\n",
       "      <td>7.0</td>\n",
       "      <td>7.0</td>\n",
       "      <td>7.0</td>\n",
       "    </tr>\n",
       "  </tbody>\n",
       "</table>\n",
       "</div>"
      ],
      "text/plain": [
       "   Unnamed: 0  DiasConsecutivos  ValorOptimo  TiempoEjecucion  \\\n",
       "0           0               1.0  210291511.0       259.694113   \n",
       "1           1               2.0  356441940.0       101.716892   \n",
       "2           2               3.0  364487631.0        88.365563   \n",
       "3           3               4.0  510328586.0        74.416290   \n",
       "\n",
       "   SectoresHabilitadosDia0  SectoresHabilitadosDia1  SectoresHabilitadosDia2  \\\n",
       "0                      4.0                      3.0                      3.0   \n",
       "1                      6.0                      4.0                      4.0   \n",
       "2                      4.0                      7.0                      5.0   \n",
       "3                      7.0                      7.0                      7.0   \n",
       "\n",
       "   SectoresHabilitadosDia3  \n",
       "0                      4.0  \n",
       "1                      6.0  \n",
       "2                      5.0  \n",
       "3                      7.0  "
      ]
     },
     "execution_count": 25,
     "metadata": {},
     "output_type": "execute_result"
    }
   ],
   "source": [
    "df.head()"
   ]
  },
  {
   "cell_type": "code",
   "execution_count": 26,
   "id": "a4f30778",
   "metadata": {},
   "outputs": [
    {
     "data": {
      "text/plain": [
       "0.2944533609435939"
      ]
     },
     "execution_count": 26,
     "metadata": {},
     "output_type": "execute_result"
    }
   ],
   "source": [
    "np.std(df['ValorOptimo']) / np.mean(df['ValorOptimo'])"
   ]
  },
  {
   "cell_type": "code",
   "execution_count": 18,
   "id": "189b8454",
   "metadata": {},
   "outputs": [
    {
     "data": {
      "text/plain": [
       "<AxesSubplot:title={'center':'Valor óptimo según máximo de días consecutivos \\n'}, xlabel='Máximo de días consecutivos', ylabel='Valor óptimo (CLP)'>"
      ]
     },
     "execution_count": 18,
     "metadata": {},
     "output_type": "execute_result"
    },
    {
     "data": {
      "image/png": "[encoded data removed]",
      "text/plain": [
       "<Figure size 432x288 with 1 Axes>"
      ]
     },
     "metadata": {
      "needs_background": "light"
     },
     "output_type": "display_data"
    }
   ],
   "source": [
    "df.plot(\n",
    "    \"DiasConsecutivos\",\n",
    "    \"ValorOptimo\", \n",
    "    kind=\"bar\", \n",
    "    title=\"Valor óptimo según máximo de días consecutivos \\n\",\n",
    "    xlabel=\"Máximo de días consecutivos\",\n",
    "    ylabel=\"Valor óptimo (CLP)\",\n",
    "    ylim=(0,700_000_000)\n",
    ")"
   ]
  },
  {
   "cell_type": "code",
   "execution_count": null,
   "id": "0faa40eb",
   "metadata": {},
   "outputs": [],
   "source": [
    "df.iloc[0][4:].plot(\n",
    "    kind=\"bar\",\n",
    "    title=f\" Sectores habilitados por día \\n Máximo de un día consecutivo\",\n",
    "    xticks=[0, 1, 2, 3],\n",
    "    xlabel=\"Día\",\n",
    "    ylabel=\"Número de sectores habilitados\",\n",
    "    ylim=(0, 8)\n",
    ")"
   ]
  },
  {
   "cell_type": "code",
   "execution_count": null,
   "id": "be30ea85",
   "metadata": {},
   "outputs": [],
   "source": [
    "df.iloc[1][4:].plot(\n",
    "    kind=\"bar\",\n",
    "    title=f\" Sectores habilitados por día \\n Máximo de dos días consecutivos\",\n",
    "    xticks=[0, 1, 2, 3],\n",
    "    xlabel=\"Día\",\n",
    "    ylabel=\"Número de sectores habilitados\",\n",
    "    ylim=(0, 8)\n",
    ")"
   ]
  },
  {
   "cell_type": "code",
   "execution_count": null,
   "id": "2a0ae65e",
   "metadata": {},
   "outputs": [],
   "source": [
    "df.iloc[2][4:].plot(\n",
    "    kind=\"bar\",\n",
    "    title=f\" Sectores habilitados por día \\n Máximo de tres días consecutivos\",\n",
    "    xticks=[0, 1, 2, 3],\n",
    "    xlabel=\"Día\",\n",
    "    ylabel=\"Número de sectores habilitados\",\n",
    "    ylim=(0, 8)\n",
    ")"
   ]
  },
  {
   "cell_type": "code",
   "execution_count": null,
   "id": "ce9b3dcb",
   "metadata": {},
   "outputs": [],
   "source": [
    "df.iloc[3][4:].plot(\n",
    "    kind=\"bar\",\n",
    "    title=f\" Sectores habilitados por día \\n Máximo de cuatro días consecutivos\",\n",
    "    xticks=[0, 1, 2, 3],\n",
    "    xlabel=\"Día\",\n",
    "    ylabel=\"Número de sectores habilitados\",\n",
    "    ylim=(0, 8)\n",
    ")"
   ]
  },
  {
   "cell_type": "code",
   "execution_count": 19,
   "id": "e5ec066c",
   "metadata": {},
   "outputs": [],
   "source": [
    "df = pd.read_csv(\"postoptimal_analysis_data/GananciaPorVendedor.csv\")"
   ]
  },
  {
   "cell_type": "code",
   "execution_count": 20,
   "id": "6728624c",
   "metadata": {
    "scrolled": true
   },
   "outputs": [
    {
     "data": {
      "text/html": [
       "<div>\n",
       "<style scoped>\n",
       "    .dataframe tbody tr th:only-of-type {\n",
       "        vertical-align: middle;\n",
       "    }\n",
       "\n",
       "    .dataframe tbody tr th {\n",
       "        vertical-align: top;\n",
       "    }\n",
       "\n",
       "    .dataframe thead th {\n",
       "        text-align: right;\n",
       "    }\n",
       "</style>\n",
       "<table border=\"1\" class=\"dataframe\">\n",
       "  <thead>\n",
       "    <tr style=\"text-align: right;\">\n",
       "      <th></th>\n",
       "      <th>Unnamed: 0</th>\n",
       "      <th>GananciaPorVendedor</th>\n",
       "      <th>ValorOptimo</th>\n",
       "      <th>TiempoEjecucion</th>\n",
       "      <th>SectoresHabilitadosDia0</th>\n",
       "      <th>SectoresHabilitadosDia1</th>\n",
       "      <th>SectoresHabilitadosDia2</th>\n",
       "      <th>SectoresHabilitadosDia3</th>\n",
       "    </tr>\n",
       "  </thead>\n",
       "  <tbody>\n",
       "    <tr>\n",
       "      <th>0</th>\n",
       "      <td>0</td>\n",
       "      <td>80000.0</td>\n",
       "      <td>358667204.0</td>\n",
       "      <td>89.373332</td>\n",
       "      <td>7.0</td>\n",
       "      <td>6.0</td>\n",
       "      <td>1.0</td>\n",
       "      <td>7.0</td>\n",
       "    </tr>\n",
       "    <tr>\n",
       "      <th>1</th>\n",
       "      <td>1</td>\n",
       "      <td>100000.0</td>\n",
       "      <td>356441940.0</td>\n",
       "      <td>84.651610</td>\n",
       "      <td>6.0</td>\n",
       "      <td>4.0</td>\n",
       "      <td>4.0</td>\n",
       "      <td>6.0</td>\n",
       "    </tr>\n",
       "    <tr>\n",
       "      <th>2</th>\n",
       "      <td>2</td>\n",
       "      <td>120000.0</td>\n",
       "      <td>357430550.0</td>\n",
       "      <td>93.618519</td>\n",
       "      <td>6.0</td>\n",
       "      <td>4.0</td>\n",
       "      <td>4.0</td>\n",
       "      <td>6.0</td>\n",
       "    </tr>\n",
       "    <tr>\n",
       "      <th>3</th>\n",
       "      <td>3</td>\n",
       "      <td>140000.0</td>\n",
       "      <td>361011115.0</td>\n",
       "      <td>81.636154</td>\n",
       "      <td>7.0</td>\n",
       "      <td>4.0</td>\n",
       "      <td>3.0</td>\n",
       "      <td>7.0</td>\n",
       "    </tr>\n",
       "  </tbody>\n",
       "</table>\n",
       "</div>"
      ],
      "text/plain": [
       "   Unnamed: 0  GananciaPorVendedor  ValorOptimo  TiempoEjecucion  \\\n",
       "0           0              80000.0  358667204.0        89.373332   \n",
       "1           1             100000.0  356441940.0        84.651610   \n",
       "2           2             120000.0  357430550.0        93.618519   \n",
       "3           3             140000.0  361011115.0        81.636154   \n",
       "\n",
       "   SectoresHabilitadosDia0  SectoresHabilitadosDia1  SectoresHabilitadosDia2  \\\n",
       "0                      7.0                      6.0                      1.0   \n",
       "1                      6.0                      4.0                      4.0   \n",
       "2                      6.0                      4.0                      4.0   \n",
       "3                      7.0                      4.0                      3.0   \n",
       "\n",
       "   SectoresHabilitadosDia3  \n",
       "0                      7.0  \n",
       "1                      6.0  \n",
       "2                      6.0  \n",
       "3                      7.0  "
      ]
     },
     "execution_count": 20,
     "metadata": {},
     "output_type": "execute_result"
    }
   ],
   "source": [
    "df.head()"
   ]
  },
  {
   "cell_type": "code",
   "execution_count": 23,
   "id": "fcaf6594",
   "metadata": {},
   "outputs": [
    {
     "data": {
      "text/plain": [
       "0.00476445913318981"
      ]
     },
     "execution_count": 23,
     "metadata": {},
     "output_type": "execute_result"
    }
   ],
   "source": [
    "np.std(df['ValorOptimo']) / np.mean(df['ValorOptimo'])"
   ]
  },
  {
   "cell_type": "code",
   "execution_count": 22,
   "id": "1e94e365",
   "metadata": {},
   "outputs": [
    {
     "data": {
      "text/plain": [
       "<AxesSubplot:title={'center':'Valor óptimo según monto colaborado por cada vendedor \\n'}, xlabel='Monto colaborado por cada vendedor adicional', ylabel='Valor óptimo (CLP)'>"
      ]
     },
     "execution_count": 22,
     "metadata": {},
     "output_type": "execute_result"
    },
    {
     "data": {
      "image/png": "[encoded data removed]",
      "text/plain": [
       "<Figure size 432x288 with 1 Axes>"
      ]
     },
     "metadata": {
      "needs_background": "light"
     },
     "output_type": "display_data"
    }
   ],
   "source": [
    "df.plot(\n",
    "    \"GananciaPorVendedor\",\n",
    "    \"ValorOptimo\", \n",
    "    kind=\"bar\", \n",
    "    title=\"Valor óptimo según monto colaborado por cada vendedor \\n\",\n",
    "    xlabel=\"Monto colaborado por cada vendedor adicional\",\n",
    "    ylabel=\"Valor óptimo (CLP)\",\n",
    "    ylim=(0,700_000_000)\n",
    ")"
   ]
  },
  {
   "cell_type": "code",
   "execution_count": null,
   "id": "be6a6648",
   "metadata": {},
   "outputs": [],
   "source": [
    "df.iloc[0][4:].plot(\n",
    "    kind=\"bar\",\n",
    "    title=f\" Sectores habilitados por día \\n Aporte de 80.000 por vendedor\",\n",
    "    xticks=[0, 1, 2, 3],\n",
    "    xlabel=\"Día\",\n",
    "    ylabel=\"Número de sectores habilitados\",\n",
    "    ylim=(0, 8)\n",
    ")"
   ]
  },
  {
   "cell_type": "code",
   "execution_count": null,
   "id": "d53f071c",
   "metadata": {},
   "outputs": [],
   "source": [
    "df.iloc[1][4:].plot(\n",
    "    kind=\"bar\",\n",
    "    title=f\" Sectores habilitados por día \\n Aporte de 100.000 por vendedor\",\n",
    "    xticks=[0, 1, 2, 3],\n",
    "    xlabel=\"Día\",\n",
    "    ylabel=\"Número de sectores habilitados\",\n",
    "    ylim=(0, 8)\n",
    ")"
   ]
  },
  {
   "cell_type": "code",
   "execution_count": null,
   "id": "f99f84b0",
   "metadata": {},
   "outputs": [],
   "source": [
    "df.iloc[2][4:].plot(\n",
    "    kind=\"bar\",\n",
    "    title=f\" Sectores habilitados por día \\n Aporte de 120.000 por vendedor\",\n",
    "    xticks=[0, 1, 2, 3],\n",
    "    xlabel=\"Día\",\n",
    "    ylabel=\"Número de sectores habilitados\",\n",
    "    ylim=(0, 8)\n",
    ")"
   ]
  },
  {
   "cell_type": "code",
   "execution_count": null,
   "id": "c25537bd",
   "metadata": {},
   "outputs": [],
   "source": [
    "df.iloc[2][4:].plot(\n",
    "    kind=\"bar\",\n",
    "    title=f\" Sectores habilitados por día \\n Aporte de 140.000 por vendedor\",\n",
    "    xticks=[0, 1, 2, 3],\n",
    "    xlabel=\"Día\",\n",
    "    ylabel=\"Número de sectores habilitados\",\n",
    "    ylim=(0, 8)\n",
    ")"
   ]
  },
  {
   "cell_type": "code",
   "execution_count": null,
   "id": "d00abb66",
   "metadata": {},
   "outputs": [],
   "source": [
    "df = pd.read_csv(\"postoptimal_analysis_data/MaximoSectores.csv\")"
   ]
  },
  {
   "cell_type": "code",
   "execution_count": null,
   "id": "cb37123b",
   "metadata": {},
   "outputs": [],
   "source": [
    "df.head()"
   ]
  },
  {
   "cell_type": "code",
   "execution_count": null,
   "id": "bd5e72c4",
   "metadata": {},
   "outputs": [],
   "source": [
    "df.plot(\n",
    "    \"MaximoSectores\",\n",
    "    \"ValorOptimo\", \n",
    "    kind=\"bar\", \n",
    "    title=\"Valor óptimo según máximo de sectores \\n\",\n",
    "    xlabel=\"Máximo de sectores disponibles\",\n",
    "    ylabel=\"Valor óptimo (CLP)\",\n",
    "    ylim=(0,700_000_000)\n",
    ")"
   ]
  },
  {
   "cell_type": "code",
   "execution_count": null,
   "id": "90f6b0f7",
   "metadata": {},
   "outputs": [],
   "source": [
    "df.iloc[0][4:].plot(\n",
    "    kind=\"bar\",\n",
    "    title=f\" Sectores habilitados por día \\n Máximo de tres sectores\",\n",
    "    xticks=[0, 1, 2, 3],\n",
    "    xlabel=\"Día\",\n",
    "    ylabel=\"Número de sectores habilitados\",\n",
    "    ylim=(0, 8)\n",
    ")"
   ]
  },
  {
   "cell_type": "code",
   "execution_count": null,
   "id": "6a104eda",
   "metadata": {},
   "outputs": [],
   "source": [
    "df.iloc[1][4:].plot(\n",
    "    kind=\"bar\",\n",
    "    title=f\" Sectores habilitados por día \\n Máximo de cuatro sectores\",\n",
    "    xticks=[0, 1, 2, 3],\n",
    "    xlabel=\"Día\",\n",
    "    ylabel=\"Número de sectores habilitados\",\n",
    "    ylim=(0, 8)\n",
    ")"
   ]
  },
  {
   "cell_type": "code",
   "execution_count": null,
   "id": "67c392c9",
   "metadata": {},
   "outputs": [],
   "source": [
    "df.iloc[2][4:].plot(\n",
    "    kind=\"bar\",\n",
    "    title=f\" Sectores habilitados por día \\n Máximo de cinco sectores\",\n",
    "    xticks=[0, 1, 2, 3],\n",
    "    xlabel=\"Día\",\n",
    "    ylabel=\"Número de sectores habilitados\",\n",
    "    ylim=(0, 8)\n",
    ")"
   ]
  },
  {
   "cell_type": "code",
   "execution_count": null,
   "id": "b1098881",
   "metadata": {},
   "outputs": [],
   "source": [
    "df.iloc[3][4:].plot(\n",
    "    kind=\"bar\",\n",
    "    title=f\" Sectores habilitados por día \\n Máximo de seis sectores\",\n",
    "    xticks=[0, 1, 2, 3],\n",
    "    xlabel=\"Día\",\n",
    "    ylabel=\"Número de sectores habilitados\",\n",
    "    ylim=(0, 8)\n",
    ")"
   ]
  },
  {
   "cell_type": "code",
   "execution_count": null,
   "id": "2cb709f4",
   "metadata": {},
   "outputs": [],
   "source": [
    "df.iloc[4][4:].plot(\n",
    "    kind=\"bar\",\n",
    "    title=f\" Sectores habilitados por día \\n Máximo de siete sectores\",\n",
    "    xticks=[0, 1, 2, 3],\n",
    "    xlabel=\"Día\",\n",
    "    ylabel=\"Número de sectores habilitados\",\n",
    "    ylim=(0, 8)\n",
    ")"
   ]
  },
  {
   "cell_type": "code",
   "execution_count": null,
   "id": "e0758ee4",
   "metadata": {},
   "outputs": [],
   "source": []
  },
  {
   "cell_type": "code",
   "execution_count": null,
   "id": "c04a7a6a",
   "metadata": {},
   "outputs": [],
   "source": []
  }
 ],
 "metadata": {
  "kernelspec": {
   "display_name": "Python 3 (ipykernel)",
   "language": "python",
   "name": "python3"
  },
  "language_info": {
   "codemirror_mode": {
    "name": "ipython",
    "version": 3
   },
   "file_extension": ".py",
   "mimetype": "text/x-python",
   "name": "python",
   "nbconvert_exporter": "python",
   "pygments_lexer": "ipython3",
   "version": "3.9.5"
  }
 },
 "nbformat": 4,
 "nbformat_minor": 5
}
